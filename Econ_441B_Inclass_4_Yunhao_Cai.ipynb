{
  "nbformat": 4,
  "nbformat_minor": 0,
  "metadata": {
    "colab": {
      "provenance": []
    },
    "kernelspec": {
      "name": "python3",
      "display_name": "Python 3"
    },
    "language_info": {
      "name": "python"
    }
  },
  "cells": [
    {
      "cell_type": "markdown",
      "source": [
        "# 0.) Import the Credit Card Fraud Data From CCLE"
      ],
      "metadata": {
        "id": "7ywSRtNI4s5h"
      }
    },
    {
      "cell_type": "code",
      "execution_count": 2,
      "metadata": {
        "id": "nsG1QV154GYZ"
      },
      "outputs": [],
      "source": [
        "import pandas as pd\n",
        "from google.colab import drive\n",
        "import matplotlib.pyplot as plt\n",
        "import numpy as np"
      ]
    },
    {
      "cell_type": "code",
      "source": [
        "drive.mount('/content/gdrive/', force_remount = True)"
      ],
      "metadata": {
        "colab": {
          "base_uri": "https://localhost:8080/"
        },
        "id": "Iku0T8Ou4Lcu",
        "outputId": "ab3325b9-d87e-4547-c487-ec5b056d2c7d"
      },
      "execution_count": 3,
      "outputs": [
        {
          "output_type": "stream",
          "name": "stdout",
          "text": [
            "Mounted at /content/gdrive/\n"
          ]
        }
      ]
    },
    {
      "cell_type": "code",
      "source": [
        "df = pd.read_csv(\"/content/gdrive/MyDrive/fraudTest.csv\")"
      ],
      "metadata": {
        "id": "KJQfo8mz43Kz"
      },
      "execution_count": 4,
      "outputs": []
    },
    {
      "cell_type": "code",
      "source": [
        "df.head()"
      ],
      "metadata": {
        "colab": {
          "base_uri": "https://localhost:8080/",
          "height": 384
        },
        "id": "mKWSRv-q98wE",
        "outputId": "03623bb9-3421-436d-9509-e2b2e912c8cb"
      },
      "execution_count": 5,
      "outputs": [
        {
          "output_type": "execute_result",
          "data": {
            "text/plain": [
              "   Unnamed: 0 trans_date_trans_time            cc_num  \\\n",
              "0           0   2020-06-21 12:14:25  2291163933867244   \n",
              "1           1   2020-06-21 12:14:33  3573030041201292   \n",
              "2           2   2020-06-21 12:14:53  3598215285024754   \n",
              "3           3   2020-06-21 12:15:15  3591919803438423   \n",
              "4           4   2020-06-21 12:15:17  3526826139003047   \n",
              "\n",
              "                               merchant        category    amt   first  \\\n",
              "0                 fraud_Kirlin and Sons   personal_care   2.86    Jeff   \n",
              "1                  fraud_Sporer-Keebler   personal_care  29.84  Joanne   \n",
              "2  fraud_Swaniawski, Nitzsche and Welch  health_fitness  41.28  Ashley   \n",
              "3                     fraud_Haley Group        misc_pos  60.05   Brian   \n",
              "4                 fraud_Johnston-Casper          travel   3.19  Nathan   \n",
              "\n",
              "       last gender                       street  ...      lat      long  \\\n",
              "0   Elliott      M            351 Darlene Green  ...  33.9659  -80.9355   \n",
              "1  Williams      F             3638 Marsh Union  ...  40.3207 -110.4360   \n",
              "2     Lopez      F         9333 Valentine Point  ...  40.6729  -73.5365   \n",
              "3  Williams      M  32941 Krystal Mill Apt. 552  ...  28.5697  -80.8191   \n",
              "4    Massey      M     5783 Evan Roads Apt. 465  ...  44.2529  -85.0170   \n",
              "\n",
              "   city_pop                     job         dob  \\\n",
              "0    333497     Mechanical engineer  1968-03-19   \n",
              "1       302  Sales professional, IT  1990-01-17   \n",
              "2     34496       Librarian, public  1970-10-21   \n",
              "3     54767            Set designer  1987-07-25   \n",
              "4      1126      Furniture designer  1955-07-06   \n",
              "\n",
              "                          trans_num   unix_time  merch_lat  merch_long  \\\n",
              "0  2da90c7d74bd46a0caf3777415b3ebd3  1371816865  33.986391  -81.200714   \n",
              "1  324cc204407e99f51b0d6ca0055005e7  1371816873  39.450498 -109.960431   \n",
              "2  c81755dbbbea9d5c77f094348a7579be  1371816893  40.495810  -74.196111   \n",
              "3  2159175b9efe66dc301f149d3d5abf8c  1371816915  28.812398  -80.883061   \n",
              "4  57ff021bd3f328f8738bb535c302a31b  1371816917  44.959148  -85.884734   \n",
              "\n",
              "   is_fraud  \n",
              "0         0  \n",
              "1         0  \n",
              "2         0  \n",
              "3         0  \n",
              "4         0  \n",
              "\n",
              "[5 rows x 23 columns]"
            ],
            "text/html": [
              "\n",
              "  <div id=\"df-c8d9b066-8135-44b5-b876-093082015565\">\n",
              "    <div class=\"colab-df-container\">\n",
              "      <div>\n",
              "<style scoped>\n",
              "    .dataframe tbody tr th:only-of-type {\n",
              "        vertical-align: middle;\n",
              "    }\n",
              "\n",
              "    .dataframe tbody tr th {\n",
              "        vertical-align: top;\n",
              "    }\n",
              "\n",
              "    .dataframe thead th {\n",
              "        text-align: right;\n",
              "    }\n",
              "</style>\n",
              "<table border=\"1\" class=\"dataframe\">\n",
              "  <thead>\n",
              "    <tr style=\"text-align: right;\">\n",
              "      <th></th>\n",
              "      <th>Unnamed: 0</th>\n",
              "      <th>trans_date_trans_time</th>\n",
              "      <th>cc_num</th>\n",
              "      <th>merchant</th>\n",
              "      <th>category</th>\n",
              "      <th>amt</th>\n",
              "      <th>first</th>\n",
              "      <th>last</th>\n",
              "      <th>gender</th>\n",
              "      <th>street</th>\n",
              "      <th>...</th>\n",
              "      <th>lat</th>\n",
              "      <th>long</th>\n",
              "      <th>city_pop</th>\n",
              "      <th>job</th>\n",
              "      <th>dob</th>\n",
              "      <th>trans_num</th>\n",
              "      <th>unix_time</th>\n",
              "      <th>merch_lat</th>\n",
              "      <th>merch_long</th>\n",
              "      <th>is_fraud</th>\n",
              "    </tr>\n",
              "  </thead>\n",
              "  <tbody>\n",
              "    <tr>\n",
              "      <th>0</th>\n",
              "      <td>0</td>\n",
              "      <td>2020-06-21 12:14:25</td>\n",
              "      <td>2291163933867244</td>\n",
              "      <td>fraud_Kirlin and Sons</td>\n",
              "      <td>personal_care</td>\n",
              "      <td>2.86</td>\n",
              "      <td>Jeff</td>\n",
              "      <td>Elliott</td>\n",
              "      <td>M</td>\n",
              "      <td>351 Darlene Green</td>\n",
              "      <td>...</td>\n",
              "      <td>33.9659</td>\n",
              "      <td>-80.9355</td>\n",
              "      <td>333497</td>\n",
              "      <td>Mechanical engineer</td>\n",
              "      <td>1968-03-19</td>\n",
              "      <td>2da90c7d74bd46a0caf3777415b3ebd3</td>\n",
              "      <td>1371816865</td>\n",
              "      <td>33.986391</td>\n",
              "      <td>-81.200714</td>\n",
              "      <td>0</td>\n",
              "    </tr>\n",
              "    <tr>\n",
              "      <th>1</th>\n",
              "      <td>1</td>\n",
              "      <td>2020-06-21 12:14:33</td>\n",
              "      <td>3573030041201292</td>\n",
              "      <td>fraud_Sporer-Keebler</td>\n",
              "      <td>personal_care</td>\n",
              "      <td>29.84</td>\n",
              "      <td>Joanne</td>\n",
              "      <td>Williams</td>\n",
              "      <td>F</td>\n",
              "      <td>3638 Marsh Union</td>\n",
              "      <td>...</td>\n",
              "      <td>40.3207</td>\n",
              "      <td>-110.4360</td>\n",
              "      <td>302</td>\n",
              "      <td>Sales professional, IT</td>\n",
              "      <td>1990-01-17</td>\n",
              "      <td>324cc204407e99f51b0d6ca0055005e7</td>\n",
              "      <td>1371816873</td>\n",
              "      <td>39.450498</td>\n",
              "      <td>-109.960431</td>\n",
              "      <td>0</td>\n",
              "    </tr>\n",
              "    <tr>\n",
              "      <th>2</th>\n",
              "      <td>2</td>\n",
              "      <td>2020-06-21 12:14:53</td>\n",
              "      <td>3598215285024754</td>\n",
              "      <td>fraud_Swaniawski, Nitzsche and Welch</td>\n",
              "      <td>health_fitness</td>\n",
              "      <td>41.28</td>\n",
              "      <td>Ashley</td>\n",
              "      <td>Lopez</td>\n",
              "      <td>F</td>\n",
              "      <td>9333 Valentine Point</td>\n",
              "      <td>...</td>\n",
              "      <td>40.6729</td>\n",
              "      <td>-73.5365</td>\n",
              "      <td>34496</td>\n",
              "      <td>Librarian, public</td>\n",
              "      <td>1970-10-21</td>\n",
              "      <td>c81755dbbbea9d5c77f094348a7579be</td>\n",
              "      <td>1371816893</td>\n",
              "      <td>40.495810</td>\n",
              "      <td>-74.196111</td>\n",
              "      <td>0</td>\n",
              "    </tr>\n",
              "    <tr>\n",
              "      <th>3</th>\n",
              "      <td>3</td>\n",
              "      <td>2020-06-21 12:15:15</td>\n",
              "      <td>3591919803438423</td>\n",
              "      <td>fraud_Haley Group</td>\n",
              "      <td>misc_pos</td>\n",
              "      <td>60.05</td>\n",
              "      <td>Brian</td>\n",
              "      <td>Williams</td>\n",
              "      <td>M</td>\n",
              "      <td>32941 Krystal Mill Apt. 552</td>\n",
              "      <td>...</td>\n",
              "      <td>28.5697</td>\n",
              "      <td>-80.8191</td>\n",
              "      <td>54767</td>\n",
              "      <td>Set designer</td>\n",
              "      <td>1987-07-25</td>\n",
              "      <td>2159175b9efe66dc301f149d3d5abf8c</td>\n",
              "      <td>1371816915</td>\n",
              "      <td>28.812398</td>\n",
              "      <td>-80.883061</td>\n",
              "      <td>0</td>\n",
              "    </tr>\n",
              "    <tr>\n",
              "      <th>4</th>\n",
              "      <td>4</td>\n",
              "      <td>2020-06-21 12:15:17</td>\n",
              "      <td>3526826139003047</td>\n",
              "      <td>fraud_Johnston-Casper</td>\n",
              "      <td>travel</td>\n",
              "      <td>3.19</td>\n",
              "      <td>Nathan</td>\n",
              "      <td>Massey</td>\n",
              "      <td>M</td>\n",
              "      <td>5783 Evan Roads Apt. 465</td>\n",
              "      <td>...</td>\n",
              "      <td>44.2529</td>\n",
              "      <td>-85.0170</td>\n",
              "      <td>1126</td>\n",
              "      <td>Furniture designer</td>\n",
              "      <td>1955-07-06</td>\n",
              "      <td>57ff021bd3f328f8738bb535c302a31b</td>\n",
              "      <td>1371816917</td>\n",
              "      <td>44.959148</td>\n",
              "      <td>-85.884734</td>\n",
              "      <td>0</td>\n",
              "    </tr>\n",
              "  </tbody>\n",
              "</table>\n",
              "<p>5 rows × 23 columns</p>\n",
              "</div>\n",
              "      <button class=\"colab-df-convert\" onclick=\"convertToInteractive('df-c8d9b066-8135-44b5-b876-093082015565')\"\n",
              "              title=\"Convert this dataframe to an interactive table.\"\n",
              "              style=\"display:none;\">\n",
              "        \n",
              "  <svg xmlns=\"http://www.w3.org/2000/svg\" height=\"24px\"viewBox=\"0 0 24 24\"\n",
              "       width=\"24px\">\n",
              "    <path d=\"M0 0h24v24H0V0z\" fill=\"none\"/>\n",
              "    <path d=\"M18.56 5.44l.94 2.06.94-2.06 2.06-.94-2.06-.94-.94-2.06-.94 2.06-2.06.94zm-11 1L8.5 8.5l.94-2.06 2.06-.94-2.06-.94L8.5 2.5l-.94 2.06-2.06.94zm10 10l.94 2.06.94-2.06 2.06-.94-2.06-.94-.94-2.06-.94 2.06-2.06.94z\"/><path d=\"M17.41 7.96l-1.37-1.37c-.4-.4-.92-.59-1.43-.59-.52 0-1.04.2-1.43.59L10.3 9.45l-7.72 7.72c-.78.78-.78 2.05 0 2.83L4 21.41c.39.39.9.59 1.41.59.51 0 1.02-.2 1.41-.59l7.78-7.78 2.81-2.81c.8-.78.8-2.07 0-2.86zM5.41 20L4 18.59l7.72-7.72 1.47 1.35L5.41 20z\"/>\n",
              "  </svg>\n",
              "      </button>\n",
              "      \n",
              "  <style>\n",
              "    .colab-df-container {\n",
              "      display:flex;\n",
              "      flex-wrap:wrap;\n",
              "      gap: 12px;\n",
              "    }\n",
              "\n",
              "    .colab-df-convert {\n",
              "      background-color: #E8F0FE;\n",
              "      border: none;\n",
              "      border-radius: 50%;\n",
              "      cursor: pointer;\n",
              "      display: none;\n",
              "      fill: #1967D2;\n",
              "      height: 32px;\n",
              "      padding: 0 0 0 0;\n",
              "      width: 32px;\n",
              "    }\n",
              "\n",
              "    .colab-df-convert:hover {\n",
              "      background-color: #E2EBFA;\n",
              "      box-shadow: 0px 1px 2px rgba(60, 64, 67, 0.3), 0px 1px 3px 1px rgba(60, 64, 67, 0.15);\n",
              "      fill: #174EA6;\n",
              "    }\n",
              "\n",
              "    [theme=dark] .colab-df-convert {\n",
              "      background-color: #3B4455;\n",
              "      fill: #D2E3FC;\n",
              "    }\n",
              "\n",
              "    [theme=dark] .colab-df-convert:hover {\n",
              "      background-color: #434B5C;\n",
              "      box-shadow: 0px 1px 3px 1px rgba(0, 0, 0, 0.15);\n",
              "      filter: drop-shadow(0px 1px 2px rgba(0, 0, 0, 0.3));\n",
              "      fill: #FFFFFF;\n",
              "    }\n",
              "  </style>\n",
              "\n",
              "      <script>\n",
              "        const buttonEl =\n",
              "          document.querySelector('#df-c8d9b066-8135-44b5-b876-093082015565 button.colab-df-convert');\n",
              "        buttonEl.style.display =\n",
              "          google.colab.kernel.accessAllowed ? 'block' : 'none';\n",
              "\n",
              "        async function convertToInteractive(key) {\n",
              "          const element = document.querySelector('#df-c8d9b066-8135-44b5-b876-093082015565');\n",
              "          const dataTable =\n",
              "            await google.colab.kernel.invokeFunction('convertToInteractive',\n",
              "                                                     [key], {});\n",
              "          if (!dataTable) return;\n",
              "\n",
              "          const docLinkHtml = 'Like what you see? Visit the ' +\n",
              "            '<a target=\"_blank\" href=https://colab.research.google.com/notebooks/data_table.ipynb>data table notebook</a>'\n",
              "            + ' to learn more about interactive tables.';\n",
              "          element.innerHTML = '';\n",
              "          dataTable['output_type'] = 'display_data';\n",
              "          await google.colab.output.renderOutput(dataTable, element);\n",
              "          const docLink = document.createElement('div');\n",
              "          docLink.innerHTML = docLinkHtml;\n",
              "          element.appendChild(docLink);\n",
              "        }\n",
              "      </script>\n",
              "    </div>\n",
              "  </div>\n",
              "  "
            ]
          },
          "metadata": {},
          "execution_count": 5
        }
      ]
    },
    {
      "cell_type": "markdown",
      "source": [
        "# 1.) Use scikit learn preprocessing to split the data into 70/30 in out of sample"
      ],
      "metadata": {
        "id": "8VsnpGe9-B3p"
      }
    },
    {
      "cell_type": "code",
      "source": [
        "df_select = df[['trans_date_trans_time', 'category', 'amt', 'city_pop', 'is_fraud']]"
      ],
      "metadata": {
        "id": "OhCo9ihgZEMw"
      },
      "execution_count": 9,
      "outputs": []
    },
    {
      "cell_type": "code",
      "source": [
        "df['trans_date_trans_time'] = pd.to_datetime(df['trans_date_trans_time'])"
      ],
      "metadata": {
        "id": "SV5EyA-sVUQJ"
      },
      "execution_count": 10,
      "outputs": []
    },
    {
      "cell_type": "code",
      "source": [
        "df_select['time_var'] = [i.second for i in df_select['trans_date_trans_time']]"
      ],
      "metadata": {
        "colab": {
          "base_uri": "https://localhost:8080/"
        },
        "id": "KzMH0p-vZLi1",
        "outputId": "2dfbe64a-2a48-4d06-bcf4-c70988318b27"
      },
      "execution_count": 11,
      "outputs": [
        {
          "output_type": "stream",
          "name": "stderr",
          "text": [
            "<ipython-input-11-00d328ef3340>:1: SettingWithCopyWarning: \n",
            "A value is trying to be set on a copy of a slice from a DataFrame.\n",
            "Try using .loc[row_indexer,col_indexer] = value instead\n",
            "\n",
            "See the caveats in the documentation: https://pandas.pydata.org/pandas-docs/stable/user_guide/indexing.html#returning-a-view-versus-a-copy\n",
            "  df_select['time_var'] = [i.second for i in df_select['trans_date_trans_time']]\n"
          ]
        }
      ]
    },
    {
      "cell_type": "code",
      "source": [
        "dummies = pd.get_dummies(df_select['category'])\n",
        "X = pd.concat([dummies, df_select[['amt', 'city_pop', 'time_var']]], axis = 1)\n",
        "y = df_select['is_fraud']"
      ],
      "metadata": {
        "id": "n7PrHlL_ZHFU"
      },
      "execution_count": 12,
      "outputs": []
    },
    {
      "cell_type": "code",
      "source": [
        "from sklearn.model_selection import train_test_split"
      ],
      "metadata": {
        "id": "1tpCDMW198ym"
      },
      "execution_count": 13,
      "outputs": []
    },
    {
      "cell_type": "code",
      "source": [
        "x_train, x_test, y_train, y_test = train_test_split(X, y, test_size = 0.3)"
      ],
      "metadata": {
        "id": "FZvnpERK981d"
      },
      "execution_count": 14,
      "outputs": []
    },
    {
      "cell_type": "markdown",
      "source": [
        "# 2.) Make three sets of training data (Oversample, Undersample and SMOTE)"
      ],
      "metadata": {
        "id": "lbkpNPyN-Gnk"
      }
    },
    {
      "cell_type": "code",
      "source": [
        "from imblearn.over_sampling import RandomOverSampler\n",
        "from imblearn.under_sampling import RandomUnderSampler\n",
        "from imblearn.over_sampling import SMOTE"
      ],
      "metadata": {
        "id": "gG88uxbiV4lZ"
      },
      "execution_count": 15,
      "outputs": []
    },
    {
      "cell_type": "code",
      "source": [
        "ros = RandomOverSampler(random_state = 0)\n",
        "x_train_over, y_train_over = ros.fit_resample(x_train, y_train)"
      ],
      "metadata": {
        "id": "cNu6ysyV988v"
      },
      "execution_count": 16,
      "outputs": []
    },
    {
      "cell_type": "code",
      "source": [
        "rus = RandomUnderSampler(random_state = 0)\n",
        "x_train_under, y_train_under = rus.fit_resample(x_train, y_train)"
      ],
      "metadata": {
        "id": "ifsNzHvOlpdf"
      },
      "execution_count": 17,
      "outputs": []
    },
    {
      "cell_type": "code",
      "source": [
        "smote = SMOTE(random_state = 0)\n",
        "x_train_smote, y_train_smote = smote.fit_resample(x_train, y_train)"
      ],
      "metadata": {
        "id": "xQE60rwv98_F"
      },
      "execution_count": 18,
      "outputs": []
    },
    {
      "cell_type": "code",
      "source": [
        "x_train_smote"
      ],
      "metadata": {
        "colab": {
          "base_uri": "https://localhost:8080/",
          "height": 424
        },
        "id": "D_7--6gI4u14",
        "outputId": "46948b58-a582-4db0-84c2-25f1c1ca791a"
      },
      "execution_count": 65,
      "outputs": [
        {
          "output_type": "execute_result",
          "data": {
            "text/plain": [
              "        entertainment  food_dining  gas_transport  grocery_net  grocery_pos  \\\n",
              "0                   0            0              0            0            0   \n",
              "1                   0            0              1            0            0   \n",
              "2                   0            1              0            0            0   \n",
              "3                   0            0              0            0            0   \n",
              "4                   0            0              0            1            0   \n",
              "...               ...          ...            ...          ...          ...   \n",
              "774959              0            0              0            0            0   \n",
              "774960              0            0              0            0            0   \n",
              "774961              0            0              0            0            0   \n",
              "774962              0            0              0            0            0   \n",
              "774963              0            0              0            0            0   \n",
              "\n",
              "        health_fitness  home  kids_pets  misc_net  misc_pos  personal_care  \\\n",
              "0                    0     0          1         0         0              0   \n",
              "1                    0     0          0         0         0              0   \n",
              "2                    0     0          0         0         0              0   \n",
              "3                    0     0          0         0         0              0   \n",
              "4                    0     0          0         0         0              0   \n",
              "...                ...   ...        ...       ...       ...            ...   \n",
              "774959               0     0          0         0         0              0   \n",
              "774960               0     0          0         0         0              0   \n",
              "774961               0     0          0         0         0              0   \n",
              "774962               0     0          0         0         0              0   \n",
              "774963               0     0          0         0         0              0   \n",
              "\n",
              "        shopping_net  shopping_pos  travel          amt  city_pop  time_var  \n",
              "0                  0             0       0    52.020000   2504700        23  \n",
              "1                  0             0       0    46.370000       519        36  \n",
              "2                  0             0       0     5.540000       255        31  \n",
              "3                  0             1       0     3.930000      1758        38  \n",
              "4                  0             0       0    62.610000     46563         3  \n",
              "...              ...           ...     ...          ...       ...       ...  \n",
              "774959             0             0       0   813.435216     10256        35  \n",
              "774960             0             0       0   207.599293     10029         1  \n",
              "774961             1             0       0  1023.911256      4878        21  \n",
              "774962             1             0       0  1106.376043     96942        47  \n",
              "774963             1             0       0  1004.468366       606        44  \n",
              "\n",
              "[774964 rows x 17 columns]"
            ],
            "text/html": [
              "\n",
              "  <div id=\"df-391f1756-52e7-447f-96f4-20751aced273\">\n",
              "    <div class=\"colab-df-container\">\n",
              "      <div>\n",
              "<style scoped>\n",
              "    .dataframe tbody tr th:only-of-type {\n",
              "        vertical-align: middle;\n",
              "    }\n",
              "\n",
              "    .dataframe tbody tr th {\n",
              "        vertical-align: top;\n",
              "    }\n",
              "\n",
              "    .dataframe thead th {\n",
              "        text-align: right;\n",
              "    }\n",
              "</style>\n",
              "<table border=\"1\" class=\"dataframe\">\n",
              "  <thead>\n",
              "    <tr style=\"text-align: right;\">\n",
              "      <th></th>\n",
              "      <th>entertainment</th>\n",
              "      <th>food_dining</th>\n",
              "      <th>gas_transport</th>\n",
              "      <th>grocery_net</th>\n",
              "      <th>grocery_pos</th>\n",
              "      <th>health_fitness</th>\n",
              "      <th>home</th>\n",
              "      <th>kids_pets</th>\n",
              "      <th>misc_net</th>\n",
              "      <th>misc_pos</th>\n",
              "      <th>personal_care</th>\n",
              "      <th>shopping_net</th>\n",
              "      <th>shopping_pos</th>\n",
              "      <th>travel</th>\n",
              "      <th>amt</th>\n",
              "      <th>city_pop</th>\n",
              "      <th>time_var</th>\n",
              "    </tr>\n",
              "  </thead>\n",
              "  <tbody>\n",
              "    <tr>\n",
              "      <th>0</th>\n",
              "      <td>0</td>\n",
              "      <td>0</td>\n",
              "      <td>0</td>\n",
              "      <td>0</td>\n",
              "      <td>0</td>\n",
              "      <td>0</td>\n",
              "      <td>0</td>\n",
              "      <td>1</td>\n",
              "      <td>0</td>\n",
              "      <td>0</td>\n",
              "      <td>0</td>\n",
              "      <td>0</td>\n",
              "      <td>0</td>\n",
              "      <td>0</td>\n",
              "      <td>52.020000</td>\n",
              "      <td>2504700</td>\n",
              "      <td>23</td>\n",
              "    </tr>\n",
              "    <tr>\n",
              "      <th>1</th>\n",
              "      <td>0</td>\n",
              "      <td>0</td>\n",
              "      <td>1</td>\n",
              "      <td>0</td>\n",
              "      <td>0</td>\n",
              "      <td>0</td>\n",
              "      <td>0</td>\n",
              "      <td>0</td>\n",
              "      <td>0</td>\n",
              "      <td>0</td>\n",
              "      <td>0</td>\n",
              "      <td>0</td>\n",
              "      <td>0</td>\n",
              "      <td>0</td>\n",
              "      <td>46.370000</td>\n",
              "      <td>519</td>\n",
              "      <td>36</td>\n",
              "    </tr>\n",
              "    <tr>\n",
              "      <th>2</th>\n",
              "      <td>0</td>\n",
              "      <td>1</td>\n",
              "      <td>0</td>\n",
              "      <td>0</td>\n",
              "      <td>0</td>\n",
              "      <td>0</td>\n",
              "      <td>0</td>\n",
              "      <td>0</td>\n",
              "      <td>0</td>\n",
              "      <td>0</td>\n",
              "      <td>0</td>\n",
              "      <td>0</td>\n",
              "      <td>0</td>\n",
              "      <td>0</td>\n",
              "      <td>5.540000</td>\n",
              "      <td>255</td>\n",
              "      <td>31</td>\n",
              "    </tr>\n",
              "    <tr>\n",
              "      <th>3</th>\n",
              "      <td>0</td>\n",
              "      <td>0</td>\n",
              "      <td>0</td>\n",
              "      <td>0</td>\n",
              "      <td>0</td>\n",
              "      <td>0</td>\n",
              "      <td>0</td>\n",
              "      <td>0</td>\n",
              "      <td>0</td>\n",
              "      <td>0</td>\n",
              "      <td>0</td>\n",
              "      <td>0</td>\n",
              "      <td>1</td>\n",
              "      <td>0</td>\n",
              "      <td>3.930000</td>\n",
              "      <td>1758</td>\n",
              "      <td>38</td>\n",
              "    </tr>\n",
              "    <tr>\n",
              "      <th>4</th>\n",
              "      <td>0</td>\n",
              "      <td>0</td>\n",
              "      <td>0</td>\n",
              "      <td>1</td>\n",
              "      <td>0</td>\n",
              "      <td>0</td>\n",
              "      <td>0</td>\n",
              "      <td>0</td>\n",
              "      <td>0</td>\n",
              "      <td>0</td>\n",
              "      <td>0</td>\n",
              "      <td>0</td>\n",
              "      <td>0</td>\n",
              "      <td>0</td>\n",
              "      <td>62.610000</td>\n",
              "      <td>46563</td>\n",
              "      <td>3</td>\n",
              "    </tr>\n",
              "    <tr>\n",
              "      <th>...</th>\n",
              "      <td>...</td>\n",
              "      <td>...</td>\n",
              "      <td>...</td>\n",
              "      <td>...</td>\n",
              "      <td>...</td>\n",
              "      <td>...</td>\n",
              "      <td>...</td>\n",
              "      <td>...</td>\n",
              "      <td>...</td>\n",
              "      <td>...</td>\n",
              "      <td>...</td>\n",
              "      <td>...</td>\n",
              "      <td>...</td>\n",
              "      <td>...</td>\n",
              "      <td>...</td>\n",
              "      <td>...</td>\n",
              "      <td>...</td>\n",
              "    </tr>\n",
              "    <tr>\n",
              "      <th>774959</th>\n",
              "      <td>0</td>\n",
              "      <td>0</td>\n",
              "      <td>0</td>\n",
              "      <td>0</td>\n",
              "      <td>0</td>\n",
              "      <td>0</td>\n",
              "      <td>0</td>\n",
              "      <td>0</td>\n",
              "      <td>0</td>\n",
              "      <td>0</td>\n",
              "      <td>0</td>\n",
              "      <td>0</td>\n",
              "      <td>0</td>\n",
              "      <td>0</td>\n",
              "      <td>813.435216</td>\n",
              "      <td>10256</td>\n",
              "      <td>35</td>\n",
              "    </tr>\n",
              "    <tr>\n",
              "      <th>774960</th>\n",
              "      <td>0</td>\n",
              "      <td>0</td>\n",
              "      <td>0</td>\n",
              "      <td>0</td>\n",
              "      <td>0</td>\n",
              "      <td>0</td>\n",
              "      <td>0</td>\n",
              "      <td>0</td>\n",
              "      <td>0</td>\n",
              "      <td>0</td>\n",
              "      <td>0</td>\n",
              "      <td>0</td>\n",
              "      <td>0</td>\n",
              "      <td>0</td>\n",
              "      <td>207.599293</td>\n",
              "      <td>10029</td>\n",
              "      <td>1</td>\n",
              "    </tr>\n",
              "    <tr>\n",
              "      <th>774961</th>\n",
              "      <td>0</td>\n",
              "      <td>0</td>\n",
              "      <td>0</td>\n",
              "      <td>0</td>\n",
              "      <td>0</td>\n",
              "      <td>0</td>\n",
              "      <td>0</td>\n",
              "      <td>0</td>\n",
              "      <td>0</td>\n",
              "      <td>0</td>\n",
              "      <td>0</td>\n",
              "      <td>1</td>\n",
              "      <td>0</td>\n",
              "      <td>0</td>\n",
              "      <td>1023.911256</td>\n",
              "      <td>4878</td>\n",
              "      <td>21</td>\n",
              "    </tr>\n",
              "    <tr>\n",
              "      <th>774962</th>\n",
              "      <td>0</td>\n",
              "      <td>0</td>\n",
              "      <td>0</td>\n",
              "      <td>0</td>\n",
              "      <td>0</td>\n",
              "      <td>0</td>\n",
              "      <td>0</td>\n",
              "      <td>0</td>\n",
              "      <td>0</td>\n",
              "      <td>0</td>\n",
              "      <td>0</td>\n",
              "      <td>1</td>\n",
              "      <td>0</td>\n",
              "      <td>0</td>\n",
              "      <td>1106.376043</td>\n",
              "      <td>96942</td>\n",
              "      <td>47</td>\n",
              "    </tr>\n",
              "    <tr>\n",
              "      <th>774963</th>\n",
              "      <td>0</td>\n",
              "      <td>0</td>\n",
              "      <td>0</td>\n",
              "      <td>0</td>\n",
              "      <td>0</td>\n",
              "      <td>0</td>\n",
              "      <td>0</td>\n",
              "      <td>0</td>\n",
              "      <td>0</td>\n",
              "      <td>0</td>\n",
              "      <td>0</td>\n",
              "      <td>1</td>\n",
              "      <td>0</td>\n",
              "      <td>0</td>\n",
              "      <td>1004.468366</td>\n",
              "      <td>606</td>\n",
              "      <td>44</td>\n",
              "    </tr>\n",
              "  </tbody>\n",
              "</table>\n",
              "<p>774964 rows × 17 columns</p>\n",
              "</div>\n",
              "      <button class=\"colab-df-convert\" onclick=\"convertToInteractive('df-391f1756-52e7-447f-96f4-20751aced273')\"\n",
              "              title=\"Convert this dataframe to an interactive table.\"\n",
              "              style=\"display:none;\">\n",
              "        \n",
              "  <svg xmlns=\"http://www.w3.org/2000/svg\" height=\"24px\"viewBox=\"0 0 24 24\"\n",
              "       width=\"24px\">\n",
              "    <path d=\"M0 0h24v24H0V0z\" fill=\"none\"/>\n",
              "    <path d=\"M18.56 5.44l.94 2.06.94-2.06 2.06-.94-2.06-.94-.94-2.06-.94 2.06-2.06.94zm-11 1L8.5 8.5l.94-2.06 2.06-.94-2.06-.94L8.5 2.5l-.94 2.06-2.06.94zm10 10l.94 2.06.94-2.06 2.06-.94-2.06-.94-.94-2.06-.94 2.06-2.06.94z\"/><path d=\"M17.41 7.96l-1.37-1.37c-.4-.4-.92-.59-1.43-.59-.52 0-1.04.2-1.43.59L10.3 9.45l-7.72 7.72c-.78.78-.78 2.05 0 2.83L4 21.41c.39.39.9.59 1.41.59.51 0 1.02-.2 1.41-.59l7.78-7.78 2.81-2.81c.8-.78.8-2.07 0-2.86zM5.41 20L4 18.59l7.72-7.72 1.47 1.35L5.41 20z\"/>\n",
              "  </svg>\n",
              "      </button>\n",
              "      \n",
              "  <style>\n",
              "    .colab-df-container {\n",
              "      display:flex;\n",
              "      flex-wrap:wrap;\n",
              "      gap: 12px;\n",
              "    }\n",
              "\n",
              "    .colab-df-convert {\n",
              "      background-color: #E8F0FE;\n",
              "      border: none;\n",
              "      border-radius: 50%;\n",
              "      cursor: pointer;\n",
              "      display: none;\n",
              "      fill: #1967D2;\n",
              "      height: 32px;\n",
              "      padding: 0 0 0 0;\n",
              "      width: 32px;\n",
              "    }\n",
              "\n",
              "    .colab-df-convert:hover {\n",
              "      background-color: #E2EBFA;\n",
              "      box-shadow: 0px 1px 2px rgba(60, 64, 67, 0.3), 0px 1px 3px 1px rgba(60, 64, 67, 0.15);\n",
              "      fill: #174EA6;\n",
              "    }\n",
              "\n",
              "    [theme=dark] .colab-df-convert {\n",
              "      background-color: #3B4455;\n",
              "      fill: #D2E3FC;\n",
              "    }\n",
              "\n",
              "    [theme=dark] .colab-df-convert:hover {\n",
              "      background-color: #434B5C;\n",
              "      box-shadow: 0px 1px 3px 1px rgba(0, 0, 0, 0.15);\n",
              "      filter: drop-shadow(0px 1px 2px rgba(0, 0, 0, 0.3));\n",
              "      fill: #FFFFFF;\n",
              "    }\n",
              "  </style>\n",
              "\n",
              "      <script>\n",
              "        const buttonEl =\n",
              "          document.querySelector('#df-391f1756-52e7-447f-96f4-20751aced273 button.colab-df-convert');\n",
              "        buttonEl.style.display =\n",
              "          google.colab.kernel.accessAllowed ? 'block' : 'none';\n",
              "\n",
              "        async function convertToInteractive(key) {\n",
              "          const element = document.querySelector('#df-391f1756-52e7-447f-96f4-20751aced273');\n",
              "          const dataTable =\n",
              "            await google.colab.kernel.invokeFunction('convertToInteractive',\n",
              "                                                     [key], {});\n",
              "          if (!dataTable) return;\n",
              "\n",
              "          const docLinkHtml = 'Like what you see? Visit the ' +\n",
              "            '<a target=\"_blank\" href=https://colab.research.google.com/notebooks/data_table.ipynb>data table notebook</a>'\n",
              "            + ' to learn more about interactive tables.';\n",
              "          element.innerHTML = '';\n",
              "          dataTable['output_type'] = 'display_data';\n",
              "          await google.colab.output.renderOutput(dataTable, element);\n",
              "          const docLink = document.createElement('div');\n",
              "          docLink.innerHTML = docLinkHtml;\n",
              "          element.appendChild(docLink);\n",
              "        }\n",
              "      </script>\n",
              "    </div>\n",
              "  </div>\n",
              "  "
            ]
          },
          "metadata": {},
          "execution_count": 65
        }
      ]
    },
    {
      "cell_type": "code",
      "source": [
        "x_train_over"
      ],
      "metadata": {
        "colab": {
          "base_uri": "https://localhost:8080/",
          "height": 424
        },
        "id": "gus_n-TM4wg1",
        "outputId": "810fa97e-df9b-4e84-912c-3279e434ffc7"
      },
      "execution_count": 68,
      "outputs": [
        {
          "output_type": "execute_result",
          "data": {
            "text/plain": [
              "        entertainment  food_dining  gas_transport  grocery_net  grocery_pos  \\\n",
              "0                   0            0              0            0            0   \n",
              "1                   0            0              1            0            0   \n",
              "2                   0            1              0            0            0   \n",
              "3                   0            0              0            0            0   \n",
              "4                   0            0              0            1            0   \n",
              "...               ...          ...            ...          ...          ...   \n",
              "774959              0            0              0            0            0   \n",
              "774960              0            0              0            0            0   \n",
              "774961              0            0              0            0            0   \n",
              "774962              0            0              0            0            0   \n",
              "774963              0            0              0            0            0   \n",
              "\n",
              "        health_fitness  home  kids_pets  misc_net  misc_pos  personal_care  \\\n",
              "0                    0     0          1         0         0              0   \n",
              "1                    0     0          0         0         0              0   \n",
              "2                    0     0          0         0         0              0   \n",
              "3                    0     0          0         0         0              0   \n",
              "4                    0     0          0         0         0              0   \n",
              "...                ...   ...        ...       ...       ...            ...   \n",
              "774959               0     0          0         0         0              0   \n",
              "774960               0     0          0         0         0              0   \n",
              "774961               0     0          0         0         1              0   \n",
              "774962               0     0          0         0         0              0   \n",
              "774963               0     0          0         0         0              0   \n",
              "\n",
              "        shopping_net  shopping_pos  travel     amt  city_pop  time_var  \n",
              "0                  0             0       0   52.02   2504700        23  \n",
              "1                  0             0       0   46.37       519        36  \n",
              "2                  0             0       0    5.54       255        31  \n",
              "3                  0             1       0    3.93      1758        38  \n",
              "4                  0             0       0   62.61     46563         3  \n",
              "...              ...           ...     ...     ...       ...       ...  \n",
              "774959             0             1       0  822.11      2097        56  \n",
              "774960             1             0       0  981.45      3495        34  \n",
              "774961             0             0       0    7.60      3766         1  \n",
              "774962             0             1       0  677.65     20328        52  \n",
              "774963             1             0       0  941.23      1735         1  \n",
              "\n",
              "[774964 rows x 17 columns]"
            ],
            "text/html": [
              "\n",
              "  <div id=\"df-6bccf837-adac-404b-8ee2-e06d054f02af\">\n",
              "    <div class=\"colab-df-container\">\n",
              "      <div>\n",
              "<style scoped>\n",
              "    .dataframe tbody tr th:only-of-type {\n",
              "        vertical-align: middle;\n",
              "    }\n",
              "\n",
              "    .dataframe tbody tr th {\n",
              "        vertical-align: top;\n",
              "    }\n",
              "\n",
              "    .dataframe thead th {\n",
              "        text-align: right;\n",
              "    }\n",
              "</style>\n",
              "<table border=\"1\" class=\"dataframe\">\n",
              "  <thead>\n",
              "    <tr style=\"text-align: right;\">\n",
              "      <th></th>\n",
              "      <th>entertainment</th>\n",
              "      <th>food_dining</th>\n",
              "      <th>gas_transport</th>\n",
              "      <th>grocery_net</th>\n",
              "      <th>grocery_pos</th>\n",
              "      <th>health_fitness</th>\n",
              "      <th>home</th>\n",
              "      <th>kids_pets</th>\n",
              "      <th>misc_net</th>\n",
              "      <th>misc_pos</th>\n",
              "      <th>personal_care</th>\n",
              "      <th>shopping_net</th>\n",
              "      <th>shopping_pos</th>\n",
              "      <th>travel</th>\n",
              "      <th>amt</th>\n",
              "      <th>city_pop</th>\n",
              "      <th>time_var</th>\n",
              "    </tr>\n",
              "  </thead>\n",
              "  <tbody>\n",
              "    <tr>\n",
              "      <th>0</th>\n",
              "      <td>0</td>\n",
              "      <td>0</td>\n",
              "      <td>0</td>\n",
              "      <td>0</td>\n",
              "      <td>0</td>\n",
              "      <td>0</td>\n",
              "      <td>0</td>\n",
              "      <td>1</td>\n",
              "      <td>0</td>\n",
              "      <td>0</td>\n",
              "      <td>0</td>\n",
              "      <td>0</td>\n",
              "      <td>0</td>\n",
              "      <td>0</td>\n",
              "      <td>52.02</td>\n",
              "      <td>2504700</td>\n",
              "      <td>23</td>\n",
              "    </tr>\n",
              "    <tr>\n",
              "      <th>1</th>\n",
              "      <td>0</td>\n",
              "      <td>0</td>\n",
              "      <td>1</td>\n",
              "      <td>0</td>\n",
              "      <td>0</td>\n",
              "      <td>0</td>\n",
              "      <td>0</td>\n",
              "      <td>0</td>\n",
              "      <td>0</td>\n",
              "      <td>0</td>\n",
              "      <td>0</td>\n",
              "      <td>0</td>\n",
              "      <td>0</td>\n",
              "      <td>0</td>\n",
              "      <td>46.37</td>\n",
              "      <td>519</td>\n",
              "      <td>36</td>\n",
              "    </tr>\n",
              "    <tr>\n",
              "      <th>2</th>\n",
              "      <td>0</td>\n",
              "      <td>1</td>\n",
              "      <td>0</td>\n",
              "      <td>0</td>\n",
              "      <td>0</td>\n",
              "      <td>0</td>\n",
              "      <td>0</td>\n",
              "      <td>0</td>\n",
              "      <td>0</td>\n",
              "      <td>0</td>\n",
              "      <td>0</td>\n",
              "      <td>0</td>\n",
              "      <td>0</td>\n",
              "      <td>0</td>\n",
              "      <td>5.54</td>\n",
              "      <td>255</td>\n",
              "      <td>31</td>\n",
              "    </tr>\n",
              "    <tr>\n",
              "      <th>3</th>\n",
              "      <td>0</td>\n",
              "      <td>0</td>\n",
              "      <td>0</td>\n",
              "      <td>0</td>\n",
              "      <td>0</td>\n",
              "      <td>0</td>\n",
              "      <td>0</td>\n",
              "      <td>0</td>\n",
              "      <td>0</td>\n",
              "      <td>0</td>\n",
              "      <td>0</td>\n",
              "      <td>0</td>\n",
              "      <td>1</td>\n",
              "      <td>0</td>\n",
              "      <td>3.93</td>\n",
              "      <td>1758</td>\n",
              "      <td>38</td>\n",
              "    </tr>\n",
              "    <tr>\n",
              "      <th>4</th>\n",
              "      <td>0</td>\n",
              "      <td>0</td>\n",
              "      <td>0</td>\n",
              "      <td>1</td>\n",
              "      <td>0</td>\n",
              "      <td>0</td>\n",
              "      <td>0</td>\n",
              "      <td>0</td>\n",
              "      <td>0</td>\n",
              "      <td>0</td>\n",
              "      <td>0</td>\n",
              "      <td>0</td>\n",
              "      <td>0</td>\n",
              "      <td>0</td>\n",
              "      <td>62.61</td>\n",
              "      <td>46563</td>\n",
              "      <td>3</td>\n",
              "    </tr>\n",
              "    <tr>\n",
              "      <th>...</th>\n",
              "      <td>...</td>\n",
              "      <td>...</td>\n",
              "      <td>...</td>\n",
              "      <td>...</td>\n",
              "      <td>...</td>\n",
              "      <td>...</td>\n",
              "      <td>...</td>\n",
              "      <td>...</td>\n",
              "      <td>...</td>\n",
              "      <td>...</td>\n",
              "      <td>...</td>\n",
              "      <td>...</td>\n",
              "      <td>...</td>\n",
              "      <td>...</td>\n",
              "      <td>...</td>\n",
              "      <td>...</td>\n",
              "      <td>...</td>\n",
              "    </tr>\n",
              "    <tr>\n",
              "      <th>774959</th>\n",
              "      <td>0</td>\n",
              "      <td>0</td>\n",
              "      <td>0</td>\n",
              "      <td>0</td>\n",
              "      <td>0</td>\n",
              "      <td>0</td>\n",
              "      <td>0</td>\n",
              "      <td>0</td>\n",
              "      <td>0</td>\n",
              "      <td>0</td>\n",
              "      <td>0</td>\n",
              "      <td>0</td>\n",
              "      <td>1</td>\n",
              "      <td>0</td>\n",
              "      <td>822.11</td>\n",
              "      <td>2097</td>\n",
              "      <td>56</td>\n",
              "    </tr>\n",
              "    <tr>\n",
              "      <th>774960</th>\n",
              "      <td>0</td>\n",
              "      <td>0</td>\n",
              "      <td>0</td>\n",
              "      <td>0</td>\n",
              "      <td>0</td>\n",
              "      <td>0</td>\n",
              "      <td>0</td>\n",
              "      <td>0</td>\n",
              "      <td>0</td>\n",
              "      <td>0</td>\n",
              "      <td>0</td>\n",
              "      <td>1</td>\n",
              "      <td>0</td>\n",
              "      <td>0</td>\n",
              "      <td>981.45</td>\n",
              "      <td>3495</td>\n",
              "      <td>34</td>\n",
              "    </tr>\n",
              "    <tr>\n",
              "      <th>774961</th>\n",
              "      <td>0</td>\n",
              "      <td>0</td>\n",
              "      <td>0</td>\n",
              "      <td>0</td>\n",
              "      <td>0</td>\n",
              "      <td>0</td>\n",
              "      <td>0</td>\n",
              "      <td>0</td>\n",
              "      <td>0</td>\n",
              "      <td>1</td>\n",
              "      <td>0</td>\n",
              "      <td>0</td>\n",
              "      <td>0</td>\n",
              "      <td>0</td>\n",
              "      <td>7.60</td>\n",
              "      <td>3766</td>\n",
              "      <td>1</td>\n",
              "    </tr>\n",
              "    <tr>\n",
              "      <th>774962</th>\n",
              "      <td>0</td>\n",
              "      <td>0</td>\n",
              "      <td>0</td>\n",
              "      <td>0</td>\n",
              "      <td>0</td>\n",
              "      <td>0</td>\n",
              "      <td>0</td>\n",
              "      <td>0</td>\n",
              "      <td>0</td>\n",
              "      <td>0</td>\n",
              "      <td>0</td>\n",
              "      <td>0</td>\n",
              "      <td>1</td>\n",
              "      <td>0</td>\n",
              "      <td>677.65</td>\n",
              "      <td>20328</td>\n",
              "      <td>52</td>\n",
              "    </tr>\n",
              "    <tr>\n",
              "      <th>774963</th>\n",
              "      <td>0</td>\n",
              "      <td>0</td>\n",
              "      <td>0</td>\n",
              "      <td>0</td>\n",
              "      <td>0</td>\n",
              "      <td>0</td>\n",
              "      <td>0</td>\n",
              "      <td>0</td>\n",
              "      <td>0</td>\n",
              "      <td>0</td>\n",
              "      <td>0</td>\n",
              "      <td>1</td>\n",
              "      <td>0</td>\n",
              "      <td>0</td>\n",
              "      <td>941.23</td>\n",
              "      <td>1735</td>\n",
              "      <td>1</td>\n",
              "    </tr>\n",
              "  </tbody>\n",
              "</table>\n",
              "<p>774964 rows × 17 columns</p>\n",
              "</div>\n",
              "      <button class=\"colab-df-convert\" onclick=\"convertToInteractive('df-6bccf837-adac-404b-8ee2-e06d054f02af')\"\n",
              "              title=\"Convert this dataframe to an interactive table.\"\n",
              "              style=\"display:none;\">\n",
              "        \n",
              "  <svg xmlns=\"http://www.w3.org/2000/svg\" height=\"24px\"viewBox=\"0 0 24 24\"\n",
              "       width=\"24px\">\n",
              "    <path d=\"M0 0h24v24H0V0z\" fill=\"none\"/>\n",
              "    <path d=\"M18.56 5.44l.94 2.06.94-2.06 2.06-.94-2.06-.94-.94-2.06-.94 2.06-2.06.94zm-11 1L8.5 8.5l.94-2.06 2.06-.94-2.06-.94L8.5 2.5l-.94 2.06-2.06.94zm10 10l.94 2.06.94-2.06 2.06-.94-2.06-.94-.94-2.06-.94 2.06-2.06.94z\"/><path d=\"M17.41 7.96l-1.37-1.37c-.4-.4-.92-.59-1.43-.59-.52 0-1.04.2-1.43.59L10.3 9.45l-7.72 7.72c-.78.78-.78 2.05 0 2.83L4 21.41c.39.39.9.59 1.41.59.51 0 1.02-.2 1.41-.59l7.78-7.78 2.81-2.81c.8-.78.8-2.07 0-2.86zM5.41 20L4 18.59l7.72-7.72 1.47 1.35L5.41 20z\"/>\n",
              "  </svg>\n",
              "      </button>\n",
              "      \n",
              "  <style>\n",
              "    .colab-df-container {\n",
              "      display:flex;\n",
              "      flex-wrap:wrap;\n",
              "      gap: 12px;\n",
              "    }\n",
              "\n",
              "    .colab-df-convert {\n",
              "      background-color: #E8F0FE;\n",
              "      border: none;\n",
              "      border-radius: 50%;\n",
              "      cursor: pointer;\n",
              "      display: none;\n",
              "      fill: #1967D2;\n",
              "      height: 32px;\n",
              "      padding: 0 0 0 0;\n",
              "      width: 32px;\n",
              "    }\n",
              "\n",
              "    .colab-df-convert:hover {\n",
              "      background-color: #E2EBFA;\n",
              "      box-shadow: 0px 1px 2px rgba(60, 64, 67, 0.3), 0px 1px 3px 1px rgba(60, 64, 67, 0.15);\n",
              "      fill: #174EA6;\n",
              "    }\n",
              "\n",
              "    [theme=dark] .colab-df-convert {\n",
              "      background-color: #3B4455;\n",
              "      fill: #D2E3FC;\n",
              "    }\n",
              "\n",
              "    [theme=dark] .colab-df-convert:hover {\n",
              "      background-color: #434B5C;\n",
              "      box-shadow: 0px 1px 3px 1px rgba(0, 0, 0, 0.15);\n",
              "      filter: drop-shadow(0px 1px 2px rgba(0, 0, 0, 0.3));\n",
              "      fill: #FFFFFF;\n",
              "    }\n",
              "  </style>\n",
              "\n",
              "      <script>\n",
              "        const buttonEl =\n",
              "          document.querySelector('#df-6bccf837-adac-404b-8ee2-e06d054f02af button.colab-df-convert');\n",
              "        buttonEl.style.display =\n",
              "          google.colab.kernel.accessAllowed ? 'block' : 'none';\n",
              "\n",
              "        async function convertToInteractive(key) {\n",
              "          const element = document.querySelector('#df-6bccf837-adac-404b-8ee2-e06d054f02af');\n",
              "          const dataTable =\n",
              "            await google.colab.kernel.invokeFunction('convertToInteractive',\n",
              "                                                     [key], {});\n",
              "          if (!dataTable) return;\n",
              "\n",
              "          const docLinkHtml = 'Like what you see? Visit the ' +\n",
              "            '<a target=\"_blank\" href=https://colab.research.google.com/notebooks/data_table.ipynb>data table notebook</a>'\n",
              "            + ' to learn more about interactive tables.';\n",
              "          element.innerHTML = '';\n",
              "          dataTable['output_type'] = 'display_data';\n",
              "          await google.colab.output.renderOutput(dataTable, element);\n",
              "          const docLink = document.createElement('div');\n",
              "          docLink.innerHTML = docLinkHtml;\n",
              "          element.appendChild(docLink);\n",
              "        }\n",
              "      </script>\n",
              "    </div>\n",
              "  </div>\n",
              "  "
            ]
          },
          "metadata": {},
          "execution_count": 68
        }
      ]
    },
    {
      "cell_type": "markdown",
      "source": [
        "# 3.) Train three logistic regression models "
      ],
      "metadata": {
        "id": "bIJx2jvD-KEI"
      }
    },
    {
      "cell_type": "code",
      "source": [
        "from sklearn.linear_model import LogisticRegression"
      ],
      "metadata": {
        "id": "NvwomEoaGAgN"
      },
      "execution_count": 19,
      "outputs": []
    },
    {
      "cell_type": "code",
      "source": [
        "log_reg_1 = LogisticRegression().fit(x_train_over, y_train_over)\n",
        "log_reg_2 = LogisticRegression().fit(x_train_under, y_train_under)\n",
        "log_reg_3 = LogisticRegression().fit(x_train_smote, y_train_smote)"
      ],
      "metadata": {
        "id": "AwXa-bvX99Id",
        "colab": {
          "base_uri": "https://localhost:8080/"
        },
        "outputId": "0f56c9b1-45de-4422-e71b-5db05ac7120e"
      },
      "execution_count": 20,
      "outputs": [
        {
          "output_type": "stream",
          "name": "stdout",
          "text": [
            "Accuracy: 0.816682262050433\n"
          ]
        }
      ]
    },
    {
      "cell_type": "code",
      "source": [
        "objects = list(x_train_smote.columns)\n",
        "coef = [log_reg_1.coef_, log_reg_2.coef_, log_reg_3.coef_]\n",
        "Type_list = ['Oversampling', 'Undersampling', 'SMOTE']"
      ],
      "metadata": {
        "id": "rlZDjUIw2HEj"
      },
      "execution_count": 55,
      "outputs": []
    },
    {
      "cell_type": "code",
      "source": [
        "plt.tight_layout(pad = 1.0, w_pad = 2.5, h_pad = 2.5)\n",
        "\n",
        "for i in range(0,3):\n",
        "  plt.figure(figsize=(16,12))\n",
        "  plt.subplot(3,1,1)\n",
        "  plt.bar(objects, coef[i][0], align='center', alpha = 0.5)\n",
        "  plt.xticks(objects, rotation=45)\n",
        "  plt.title('Coefficients' + ' ' + 'type: {}'.format(Type_list[i]))\n",
        "  plt.show()"
      ],
      "metadata": {
        "colab": {
          "base_uri": "https://localhost:8080/",
          "height": 895
        },
        "id": "lm7SM24I2LQD",
        "outputId": "59468f9c-3ba3-414f-8c90-eccc29b48dcc"
      },
      "execution_count": 57,
      "outputs": [
        {
          "output_type": "display_data",
          "data": {
            "text/plain": [
              "<Figure size 432x288 with 0 Axes>"
            ]
          },
          "metadata": {}
        },
        {
          "output_type": "display_data",
          "data": {
            "text/plain": [
              "<Figure size 1152x864 with 1 Axes>"
            ],
            "image/png": "[encoded data removed]"
          },
          "metadata": {
            "needs_background": "light"
          }
        },
        {
          "output_type": "display_data",
          "data": {
            "text/plain": [
              "<Figure size 1152x864 with 1 Axes>"
            ],
            "image/png": "[encoded data removed]"
          },
          "metadata": {
            "needs_background": "light"
          }
        },
        {
          "output_type": "display_data",
          "data": {
            "text/plain": [
              "<Figure size 1152x864 with 1 Axes>"
            ],
            "image/png": "[encoded data removed]"
          },
          "metadata": {
            "needs_background": "light"
          }
        }
      ]
    },
    {
      "cell_type": "markdown",
      "source": [
        "# 4.) Test the three models"
      ],
      "metadata": {
        "id": "PeurmqI4-OoC"
      }
    },
    {
      "cell_type": "markdown",
      "source": [
        "Test the accuracy for prediction:"
      ],
      "metadata": {
        "id": "FL0K6Ehh3LXI"
      }
    },
    {
      "cell_type": "code",
      "source": [
        "print('Accuracy:', log_reg_1.score(x_test, y_test))\n",
        "print('Accuracy:', log_reg_2.score(x_test, y_test))\n",
        "print('Accuracy:', log_reg_3.score(x_test, y_test))"
      ],
      "metadata": {
        "colab": {
          "base_uri": "https://localhost:8080/"
        },
        "id": "ol0G-vT42oRj",
        "outputId": "54a38cc0-463f-4866-93f2-c921016b95d2"
      },
      "execution_count": 58,
      "outputs": [
        {
          "output_type": "stream",
          "name": "stdout",
          "text": [
            "Accuracy: 0.816682262050433\n",
            "Accuracy: 0.8287506897958204\n",
            "Accuracy: 0.8225185345137839\n"
          ]
        }
      ]
    },
    {
      "cell_type": "markdown",
      "source": [
        "Using Lasso Model to test the coefficients:"
      ],
      "metadata": {
        "id": "RX5dP-2o1A9A"
      }
    },
    {
      "cell_type": "code",
      "source": [
        "log_res_Lasso_1 = LogisticRegression(\"l1\", solver = 'liblinear')\n",
        "log_res_Lasso_1.fit(x_train_over, y_train_over)\n",
        "log_res_Lasso_1.coef_"
      ],
      "metadata": {
        "id": "8tpSsOC0xsKs",
        "colab": {
          "base_uri": "https://localhost:8080/"
        },
        "outputId": "380ba3e6-d93e-4f87-c033-bfe254ef51cd"
      },
      "execution_count": 23,
      "outputs": [
        {
          "output_type": "execute_result",
          "data": {
            "text/plain": [
              "array([[-2.86791523e+00, -1.11015827e+00, -2.90296829e-02,\n",
              "        -1.68024668e-01, -9.09970057e-01, -7.43742935e-01,\n",
              "        -1.76198553e+00, -9.36681348e-01, -3.65394102e+00,\n",
              "        -6.22496923e-01, -4.67051471e-01, -4.76257000e+00,\n",
              "        -4.58264680e+00, -1.44516902e-01,  1.05379378e-02,\n",
              "        -4.94983814e-07,  1.35286042e-04]])"
            ]
          },
          "metadata": {},
          "execution_count": 23
        }
      ]
    },
    {
      "cell_type": "code",
      "source": [
        "log_res_Lasso_2 = LogisticRegression(\"l1\", solver = 'liblinear')\n",
        "log_res_Lasso_2.fit(x_train_under, y_train_under)\n",
        "log_res_Lasso_2.coef_"
      ],
      "metadata": {
        "id": "zwq8KTmsXhFY",
        "colab": {
          "base_uri": "https://localhost:8080/"
        },
        "outputId": "a2993daf-739b-429f-bb08-6192ce9adffe"
      },
      "execution_count": 25,
      "outputs": [
        {
          "output_type": "execute_result",
          "data": {
            "text/plain": [
              "array([[-1.50254346e+00, -2.58507455e-01,  8.37883587e-01,\n",
              "         6.00357909e-01,  2.64339648e-01,  6.49323507e-02,\n",
              "        -6.18162176e-01,  0.00000000e+00, -1.89539463e+00,\n",
              "         0.00000000e+00,  8.67788978e-02, -2.43981609e+00,\n",
              "        -2.80192355e+00,  5.64772937e-01,  8.23305171e-03,\n",
              "        -5.28848467e-07,  1.57971920e-03]])"
            ]
          },
          "metadata": {},
          "execution_count": 25
        }
      ]
    },
    {
      "cell_type": "code",
      "source": [
        "log_res_Lasso_3 = LogisticRegression(\"l1\", solver = 'liblinear')\n",
        "log_res_Lasso_3.fit(x_train_smote, y_train_smote)\n",
        "log_res_Lasso_3.coef_"
      ],
      "metadata": {
        "id": "IF_H74Ht-RIL",
        "colab": {
          "base_uri": "https://localhost:8080/"
        },
        "outputId": "9a816a0f-93bc-48ff-9be4-fd3583b1165b"
      },
      "execution_count": 27,
      "outputs": [
        {
          "output_type": "execute_result",
          "data": {
            "text/plain": [
              "array([[-1.09076762e+01, -8.95591133e+00, -7.99748318e+00,\n",
              "        -9.36000396e+00, -7.90647702e+00, -9.44458276e+00,\n",
              "        -9.51975304e+00, -9.31563365e+00, -1.20085565e+01,\n",
              "        -1.03908797e+01, -8.66994875e+00, -1.35119743e+01,\n",
              "        -1.36449244e+01, -1.43945277e+01,  1.28599383e-02,\n",
              "        -8.37058385e-07, -3.59160079e-03]])"
            ]
          },
          "metadata": {},
          "execution_count": 27
        }
      ]
    },
    {
      "cell_type": "code",
      "source": [
        "coef_lasso = [log_res_Lasso_1.coef_, log_res_Lasso_2.coef_, log_res_Lasso_3.coef_]"
      ],
      "metadata": {
        "id": "udwK0byx-RLA"
      },
      "execution_count": 48,
      "outputs": []
    },
    {
      "cell_type": "code",
      "source": [
        "plt.tight_layout(pad = 1.0, w_pad = 2.5, h_pad = 2.5)\n",
        "\n",
        "for i in range(0,3):\n",
        "  plt.figure(figsize=(16,12))\n",
        "  plt.subplot(3,1,1)\n",
        "  plt.bar(objects, coef_lasso[i][0], align='center', alpha = 0.5)\n",
        "  plt.xticks(objects, rotation=45)\n",
        "  plt.title('Coefficients' + ' ' + 'type: {}'.format(Type_list[i]))\n",
        "  plt.show()"
      ],
      "metadata": {
        "colab": {
          "base_uri": "https://localhost:8080/",
          "height": 895
        },
        "id": "F0Q-hI8cy84y",
        "outputId": "811cf71a-f75b-4b90-fa3e-f8ce9933dff1"
      },
      "execution_count": 52,
      "outputs": [
        {
          "output_type": "display_data",
          "data": {
            "text/plain": [
              "<Figure size 432x288 with 0 Axes>"
            ]
          },
          "metadata": {}
        },
        {
          "output_type": "display_data",
          "data": {
            "text/plain": [
              "<Figure size 1152x864 with 1 Axes>"
            ],
            "image/png": "[encoded data removed]"
          },
          "metadata": {
            "needs_background": "light"
          }
        },
        {
          "output_type": "display_data",
          "data": {
            "text/plain": [
              "<Figure size 1152x864 with 1 Axes>"
            ],
            "image/png": "[encoded data removed]"
          },
          "metadata": {
            "needs_background": "light"
          }
        },
        {
          "output_type": "display_data",
          "data": {
            "text/plain": [
              "<Figure size 1152x864 with 1 Axes>"
            ],
            "image/png": "[encoded data removed]"
          },
          "metadata": {
            "needs_background": "light"
          }
        }
      ]
    },
    {
      "cell_type": "markdown",
      "source": [
        "# 5.) Which performed best in Out of Sample metrics?"
      ],
      "metadata": {
        "id": "6isBwtmL-R4p"
      }
    },
    {
      "cell_type": "markdown",
      "source": [
        "Due to the result of prediction accuracy, the second model, which uses a undersampled dataset for training, has the best performance."
      ],
      "metadata": {
        "id": "fURzl1Sb24Co"
      }
    },
    {
      "cell_type": "markdown",
      "source": [
        "Also, the Lasso model indicates that $amt$, ${citypop}$, and $timevar$ is not suitable for prediction, the only qualified predictor is $category$."
      ],
      "metadata": {
        "id": "HHEfDTJG3ScV"
      }
    },
    {
      "cell_type": "markdown",
      "source": [
        "# 6.) Pick two features and plot the two classes before and after SMOTE."
      ],
      "metadata": {
        "id": "aQa3sanl-XUk"
      }
    },
    {
      "cell_type": "code",
      "source": [
        "import matplotlib.pyplot as plt"
      ],
      "metadata": {
        "id": "vVaHpqf9wHj7"
      },
      "execution_count": 59,
      "outputs": []
    },
    {
      "cell_type": "code",
      "source": [
        "# Before SMOTE\n",
        "OG_data_temp_before = pd.concat([x_train, y_train], axis = 1)\n",
        "\n",
        "plt.scatter(OG_data_temp_before[OG_data_temp_before['is_fraud'] == 0]['amt'], OG_data_temp_before[OG_data_temp_before['is_fraud'] == 0]['city_pop'])\n",
        "plt.scatter(OG_data_temp_before[OG_data_temp_before['is_fraud'] == 1]['amt'], OG_data_temp_before[OG_data_temp_before['is_fraud'] == 1]['city_pop'])\n",
        "plt.legend(['No fraud', 'Is fraud'])\n",
        "plt.xlabel('Amount')\n",
        "plt.ylabel('City Population')\n",
        "plt.show()"
      ],
      "metadata": {
        "id": "G-MUv66T-RZE",
        "colab": {
          "base_uri": "https://localhost:8080/",
          "height": 290
        },
        "outputId": "29690113-8ccc-49b4-8e6c-24b33b708403"
      },
      "execution_count": 60,
      "outputs": [
        {
          "output_type": "display_data",
          "data": {
            "text/plain": [
              "<Figure size 432x288 with 1 Axes>"
            ],
            "image/png": "[encoded data removed]"
          },
          "metadata": {
            "needs_background": "light"
          }
        }
      ]
    },
    {
      "cell_type": "code",
      "source": [
        "# After SMOTE\n",
        "OG_data_temp_after = pd.concat([x_train_smote, y_train_smote], axis = 1)\n",
        "\n",
        "plt.scatter(OG_data_temp_after[OG_data_temp_after['is_fraud'] == 0]['amt'], OG_data_temp_after[OG_data_temp_after['is_fraud'] == 0]['city_pop'])\n",
        "plt.scatter(OG_data_temp_after[OG_data_temp_after['is_fraud'] == 1]['amt'], OG_data_temp_after[OG_data_temp_after['is_fraud'] == 1]['city_pop'])\n",
        "plt.legend(['No fraud', 'Is fraud'])\n",
        "plt.xlabel('Amount')\n",
        "plt.ylabel('City Population')\n",
        "plt.show()"
      ],
      "metadata": {
        "colab": {
          "base_uri": "https://localhost:8080/",
          "height": 290
        },
        "id": "h4KNbY1uc9h-",
        "outputId": "14dde614-f4a3-49bb-b7d1-10a6428cf76b"
      },
      "execution_count": 64,
      "outputs": [
        {
          "output_type": "display_data",
          "data": {
            "text/plain": [
              "<Figure size 432x288 with 1 Axes>"
            ],
            "image/png": "[encoded data removed]"
          },
          "metadata": {
            "needs_background": "light"
          }
        }
      ]
    },
    {
      "cell_type": "code",
      "source": [],
      "metadata": {
        "id": "z67Zt99Hcrde",
        "colab": {
          "base_uri": "https://localhost:8080/",
          "height": 290
        },
        "outputId": "2ae5fe66-1946-4dbb-a570-0b150cc6f35e"
      },
      "execution_count": 69,
      "outputs": [
        {
          "output_type": "display_data",
          "data": {
            "text/plain": [
              "<Figure size 432x288 with 1 Axes>"
            ],
            "image/png": "[encoded data removed]"
          },
          "metadata": {
            "needs_background": "light"
          }
        }
      ]
    }
  ]
}